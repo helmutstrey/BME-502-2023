{
 "cells": [
  {
   "cell_type": "code",
   "execution_count": 1,
   "id": "45ac01c4",
   "metadata": {},
   "outputs": [
    {
     "name": "stderr",
     "output_type": "stream",
     "text": [
      "\u001b[32m\u001b[1m    Updating\u001b[22m\u001b[39m registry at `~/.julia/registries/General.toml`\n",
      "\u001b[32m\u001b[1m   Resolving\u001b[22m\u001b[39m package versions...\n",
      "\u001b[32m\u001b[1m  No Changes\u001b[22m\u001b[39m to `~/.julia/environments/v1.8/Project.toml`\n",
      "\u001b[32m\u001b[1m    Updating\u001b[22m\u001b[39m `~/.julia/environments/v1.8/Manifest.toml`\n",
      " \u001b[90m [82cc6244] \u001b[39m\u001b[92m+ DataInterpolations v3.11.0\u001b[39m\n",
      " \u001b[90m [0fc2ff8b] \u001b[39m\u001b[92m+ LeastSquaresOptim v0.8.4\u001b[39m\n",
      " \u001b[90m [c03570c3] \u001b[39m\u001b[92m+ Memoize v0.4.4\u001b[39m\n",
      " \u001b[90m [29dad682] \u001b[39m\u001b[92m+ RegularizationTools v0.6.0\u001b[39m\n",
      " \u001b[90m [d9a01c3f] \u001b[39m\u001b[92m+ Underscores v3.0.0\u001b[39m\n"
     ]
    }
   ],
   "source": [
    "import Pkg\n",
    "Pkg.add([\"Plots\",\"Distributions\",\"Random\",\"Polynomials\",\"Statistics\"])"
   ]
  },
  {
   "cell_type": "code",
   "execution_count": 2,
   "id": "42dd833a",
   "metadata": {},
   "outputs": [],
   "source": [
    "using Plots\n",
    "import Distributions as di\n",
    "using Random\n",
    "using Polynomials: Polynomial, fit, coeffs\n",
    "using Statistics"
   ]
  },
  {
   "cell_type": "markdown",
   "id": "ce2d9bb6",
   "metadata": {},
   "source": [
    "To recap: We assume that each data point that we are measuring is independent of each other and that each data point $y_{i}=f(x_{i},\\theta)$ has an error that has been drawn from a normal distribution with zero mean and standard deviation $\\sigma_{i}$. $\\theta$ represents the parameters of the model $f(x,\\theta)$ with which you want to fit the data.\n",
    "Lets find out what we can say about the likelihood pdf of such data:\n",
    "$$P(\\{y_{i}(x_{i})\\}\\mid \\theta)\\propto \\prod_{i}\\frac{1}{\\sqrt{2\\pi\\sigma^2}}\\exp\\big(-\\frac{(y_{i}(x_{i})-f(x_{i},\\theta))^2}{2\\sigma_{i}^2}\\big)$$\n",
    "Least-square fits are often also called $\\chi^2$ fits.  $\\chi^2$ is defined as:\n",
    "$$\\chi^{2}=\\sum_{i}^{N}{\\frac{(y_{i}-f(x_{i},\\theta))^2}{\\sigma_{i}^2}}$$\n",
    "which simplifies the likelihood to:\n",
    "$$P(\\{y_{i}(x_{i})\\}\\mid \\theta)\\propto \\exp\\big(-\\frac{\\chi^2}{2}\\big)$$\n",
    "now let's assume also that the prior distribution for your parameters is flat $P(\\theta)=const$.  Then\n",
    "$$P(\\theta \\mid \\{y_{i}(x_{i})\\}) \\propto P (\\{y_{i}(x_{i})\\}\\mid \\theta)$$\n",
    "and if you are only interested in the maximum value of the $P(\\theta \\mid \\{y_{i}(x_{i})\\})$ then you need to find the minimum value of $\\chi^2$.  That is what people mean when they talk about least-square fitting: minimizing $\\chi^2$ as a function of $\\theta$."
   ]
  },
  {
   "cell_type": "code",
   "execution_count": 3,
   "id": "dbc06217",
   "metadata": {},
   "outputs": [
    {
     "data": {
      "text/plain": [
       "0:10"
      ]
     },
     "execution_count": 3,
     "metadata": {},
     "output_type": "execute_result"
    }
   ],
   "source": [
    "x = 0:10"
   ]
  },
  {
   "cell_type": "code",
   "execution_count": 4,
   "id": "e6282fc7",
   "metadata": {},
   "outputs": [
    {
     "data": {
      "text/plain": [
       "Distributions.Normal{Float64}(μ=0.0, σ=3.0)"
      ]
     },
     "execution_count": 4,
     "metadata": {},
     "output_type": "execute_result"
    }
   ],
   "source": [
    "dataerr = 3.0\n",
    "d = di.Normal(0,dataerr)"
   ]
  },
  {
   "cell_type": "code",
   "execution_count": 5,
   "id": "6c094795",
   "metadata": {},
   "outputs": [
    {
     "data": {
      "image/svg+xml": [
       "<?xml version=\"1.0\" encoding=\"utf-8\"?>\n",
       "<svg xmlns=\"http://www.w3.org/2000/svg\" xmlns:xlink=\"http://www.w3.org/1999/xlink\" width=\"600\" height=\"400\" viewBox=\"0 0 2400 1600\">\n",
       "<defs>\n",
       "  <clipPath id=\"clip750\">\n",
       "    <rect x=\"0\" y=\"0\" width=\"2400\" height=\"1600\"/>\n",
       "  </clipPath>\n",
       "</defs>\n",
       "<path clip-path=\"url(#clip750)\" d=\"M0 1600 L2400 1600 L2400 0 L0 0  Z\" fill=\"#ffffff\" fill-rule=\"evenodd\" fill-opacity=\"1\"/>\n",
       "<defs>\n",
       "  <clipPath id=\"clip751\">\n",
       "    <rect x=\"480\" y=\"0\" width=\"1681\" height=\"1600\"/>\n",
       "  </clipPath>\n",
       "</defs>\n",
       "<path clip-path=\"url(#clip750)\" d=\"M140.696 1486.45 L2352.76 1486.45 L2352.76 47.2441 L140.696 47.2441  Z\" fill=\"#ffffff\" fill-rule=\"evenodd\" fill-opacity=\"1\"/>\n",
       "<defs>\n",
       "  <clipPath id=\"clip752\">\n",
       "    <rect x=\"140\" y=\"47\" width=\"2213\" height=\"1440\"/>\n",
       "  </clipPath>\n",
       "</defs>\n",
       "<polyline clip-path=\"url(#clip752)\" style=\"stroke:#000000; stroke-linecap:round; stroke-linejoin:round; stroke-width:2; stroke-opacity:0.1; fill:none\" points=\"203.301,1486.45 203.301,47.2441 \"/>\n",
       "<polyline clip-path=\"url(#clip752)\" style=\"stroke:#000000; stroke-linecap:round; stroke-linejoin:round; stroke-width:2; stroke-opacity:0.1; fill:none\" points=\"725.013,1486.45 725.013,47.2441 \"/>\n",
       "<polyline clip-path=\"url(#clip752)\" style=\"stroke:#000000; stroke-linecap:round; stroke-linejoin:round; stroke-width:2; stroke-opacity:0.1; fill:none\" points=\"1246.73,1486.45 1246.73,47.2441 \"/>\n",
       "<polyline clip-path=\"url(#clip752)\" style=\"stroke:#000000; stroke-linecap:round; stroke-linejoin:round; stroke-width:2; stroke-opacity:0.1; fill:none\" points=\"1768.44,1486.45 1768.44,47.2441 \"/>\n",
       "<polyline clip-path=\"url(#clip752)\" style=\"stroke:#000000; stroke-linecap:round; stroke-linejoin:round; stroke-width:2; stroke-opacity:0.1; fill:none\" points=\"2290.15,1486.45 2290.15,47.2441 \"/>\n",
       "<polyline clip-path=\"url(#clip750)\" style=\"stroke:#000000; stroke-linecap:round; stroke-linejoin:round; stroke-width:4; stroke-opacity:1; fill:none\" points=\"140.696,1486.45 2352.76,1486.45 \"/>\n",
       "<polyline clip-path=\"url(#clip750)\" style=\"stroke:#000000; stroke-linecap:round; stroke-linejoin:round; stroke-width:4; stroke-opacity:1; fill:none\" points=\"203.301,1486.45 203.301,1467.55 \"/>\n",
       "<polyline clip-path=\"url(#clip750)\" style=\"stroke:#000000; stroke-linecap:round; stroke-linejoin:round; stroke-width:4; stroke-opacity:1; fill:none\" points=\"725.013,1486.45 725.013,1467.55 \"/>\n",
       "<polyline clip-path=\"url(#clip750)\" style=\"stroke:#000000; stroke-linecap:round; stroke-linejoin:round; stroke-width:4; stroke-opacity:1; fill:none\" points=\"1246.73,1486.45 1246.73,1467.55 \"/>\n",
       "<polyline clip-path=\"url(#clip750)\" style=\"stroke:#000000; stroke-linecap:round; stroke-linejoin:round; stroke-width:4; stroke-opacity:1; fill:none\" points=\"1768.44,1486.45 1768.44,1467.55 \"/>\n",
       "<polyline clip-path=\"url(#clip750)\" style=\"stroke:#000000; stroke-linecap:round; stroke-linejoin:round; stroke-width:4; stroke-opacity:1; fill:none\" points=\"2290.15,1486.45 2290.15,1467.55 \"/>\n",
       "<path clip-path=\"url(#clip750)\" d=\"M180.685 1517.37 Q177.074 1517.37 175.246 1520.93 Q173.44 1524.47 173.44 1531.6 Q173.44 1538.71 175.246 1542.27 Q177.074 1545.82 180.685 1545.82 Q184.32 1545.82 186.125 1542.27 Q187.954 1538.71 187.954 1531.6 Q187.954 1524.47 186.125 1520.93 Q184.32 1517.37 180.685 1517.37 M180.685 1513.66 Q186.496 1513.66 189.551 1518.27 Q192.63 1522.85 192.63 1531.6 Q192.63 1540.33 189.551 1544.94 Q186.496 1549.52 180.685 1549.52 Q174.875 1549.52 171.797 1544.94 Q168.741 1540.33 168.741 1531.6 Q168.741 1522.85 171.797 1518.27 Q174.875 1513.66 180.685 1513.66 Z\" fill=\"#000000\" fill-rule=\"evenodd\" fill-opacity=\"1\" /><path clip-path=\"url(#clip750)\" d=\"M200.847 1542.97 L205.732 1542.97 L205.732 1548.85 L200.847 1548.85 L200.847 1542.97 Z\" fill=\"#000000\" fill-rule=\"evenodd\" fill-opacity=\"1\" /><path clip-path=\"url(#clip750)\" d=\"M225.917 1517.37 Q222.306 1517.37 220.477 1520.93 Q218.671 1524.47 218.671 1531.6 Q218.671 1538.71 220.477 1542.27 Q222.306 1545.82 225.917 1545.82 Q229.551 1545.82 231.356 1542.27 Q233.185 1538.71 233.185 1531.6 Q233.185 1524.47 231.356 1520.93 Q229.551 1517.37 225.917 1517.37 M225.917 1513.66 Q231.727 1513.66 234.782 1518.27 Q237.861 1522.85 237.861 1531.6 Q237.861 1540.33 234.782 1544.94 Q231.727 1549.52 225.917 1549.52 Q220.106 1549.52 217.028 1544.94 Q213.972 1540.33 213.972 1531.6 Q213.972 1522.85 217.028 1518.27 Q220.106 1513.66 225.917 1513.66 Z\" fill=\"#000000\" fill-rule=\"evenodd\" fill-opacity=\"1\" /><path clip-path=\"url(#clip750)\" d=\"M696.75 1544.91 L713.069 1544.91 L713.069 1548.85 L691.125 1548.85 L691.125 1544.91 Q693.787 1542.16 698.37 1537.53 Q702.976 1532.88 704.157 1531.53 Q706.402 1529.01 707.282 1527.27 Q708.185 1525.51 708.185 1523.82 Q708.185 1521.07 706.24 1519.33 Q704.319 1517.6 701.217 1517.6 Q699.018 1517.6 696.564 1518.36 Q694.134 1519.13 691.356 1520.68 L691.356 1515.95 Q694.18 1514.82 696.634 1514.24 Q699.088 1513.66 701.125 1513.66 Q706.495 1513.66 709.689 1516.35 Q712.884 1519.03 712.884 1523.52 Q712.884 1525.65 712.074 1527.57 Q711.287 1529.47 709.18 1532.07 Q708.601 1532.74 705.5 1535.95 Q702.398 1539.15 696.75 1544.91 Z\" fill=\"#000000\" fill-rule=\"evenodd\" fill-opacity=\"1\" /><path clip-path=\"url(#clip750)\" d=\"M722.884 1542.97 L727.768 1542.97 L727.768 1548.85 L722.884 1548.85 L722.884 1542.97 Z\" fill=\"#000000\" fill-rule=\"evenodd\" fill-opacity=\"1\" /><path clip-path=\"url(#clip750)\" d=\"M737.999 1514.29 L756.356 1514.29 L756.356 1518.22 L742.282 1518.22 L742.282 1526.7 Q743.3 1526.35 744.319 1526.19 Q745.337 1526 746.356 1526 Q752.143 1526 755.522 1529.17 Q758.902 1532.34 758.902 1537.76 Q758.902 1543.34 755.43 1546.44 Q751.958 1549.52 745.638 1549.52 Q743.462 1549.52 741.194 1549.15 Q738.948 1548.78 736.541 1548.04 L736.541 1543.34 Q738.624 1544.47 740.847 1545.03 Q743.069 1545.58 745.546 1545.58 Q749.55 1545.58 751.888 1543.48 Q754.226 1541.37 754.226 1537.76 Q754.226 1534.15 751.888 1532.04 Q749.55 1529.94 745.546 1529.94 Q743.671 1529.94 741.796 1530.35 Q739.944 1530.77 737.999 1531.65 L737.999 1514.29 Z\" fill=\"#000000\" fill-rule=\"evenodd\" fill-opacity=\"1\" /><path clip-path=\"url(#clip750)\" d=\"M1213.89 1514.29 L1232.25 1514.29 L1232.25 1518.22 L1218.17 1518.22 L1218.17 1526.7 Q1219.19 1526.35 1220.21 1526.19 Q1221.23 1526 1222.25 1526 Q1228.03 1526 1231.41 1529.17 Q1234.79 1532.34 1234.79 1537.76 Q1234.79 1543.34 1231.32 1546.44 Q1227.85 1549.52 1221.53 1549.52 Q1219.35 1549.52 1217.08 1549.15 Q1214.84 1548.78 1212.43 1548.04 L1212.43 1543.34 Q1214.52 1544.47 1216.74 1545.03 Q1218.96 1545.58 1221.44 1545.58 Q1225.44 1545.58 1227.78 1543.48 Q1230.12 1541.37 1230.12 1537.76 Q1230.12 1534.15 1227.78 1532.04 Q1225.44 1529.94 1221.44 1529.94 Q1219.56 1529.94 1217.69 1530.35 Q1215.83 1530.77 1213.89 1531.65 L1213.89 1514.29 Z\" fill=\"#000000\" fill-rule=\"evenodd\" fill-opacity=\"1\" /><path clip-path=\"url(#clip750)\" d=\"M1244.01 1542.97 L1248.89 1542.97 L1248.89 1548.85 L1244.01 1548.85 L1244.01 1542.97 Z\" fill=\"#000000\" fill-rule=\"evenodd\" fill-opacity=\"1\" /><path clip-path=\"url(#clip750)\" d=\"M1269.08 1517.37 Q1265.46 1517.37 1263.64 1520.93 Q1261.83 1524.47 1261.83 1531.6 Q1261.83 1538.71 1263.64 1542.27 Q1265.46 1545.82 1269.08 1545.82 Q1272.71 1545.82 1274.51 1542.27 Q1276.34 1538.71 1276.34 1531.6 Q1276.34 1524.47 1274.51 1520.93 Q1272.71 1517.37 1269.08 1517.37 M1269.08 1513.66 Q1274.89 1513.66 1277.94 1518.27 Q1281.02 1522.85 1281.02 1531.6 Q1281.02 1540.33 1277.94 1544.94 Q1274.89 1549.52 1269.08 1549.52 Q1263.26 1549.52 1260.19 1544.94 Q1257.13 1540.33 1257.13 1531.6 Q1257.13 1522.85 1260.19 1518.27 Q1263.26 1513.66 1269.08 1513.66 Z\" fill=\"#000000\" fill-rule=\"evenodd\" fill-opacity=\"1\" /><path clip-path=\"url(#clip750)\" d=\"M1734.76 1514.29 L1756.98 1514.29 L1756.98 1516.28 L1744.43 1548.85 L1739.55 1548.85 L1751.35 1518.22 L1734.76 1518.22 L1734.76 1514.29 Z\" fill=\"#000000\" fill-rule=\"evenodd\" fill-opacity=\"1\" /><path clip-path=\"url(#clip750)\" d=\"M1766.1 1542.97 L1770.98 1542.97 L1770.98 1548.85 L1766.1 1548.85 L1766.1 1542.97 Z\" fill=\"#000000\" fill-rule=\"evenodd\" fill-opacity=\"1\" /><path clip-path=\"url(#clip750)\" d=\"M1781.22 1514.29 L1799.57 1514.29 L1799.57 1518.22 L1785.5 1518.22 L1785.5 1526.7 Q1786.52 1526.35 1787.54 1526.19 Q1788.55 1526 1789.57 1526 Q1795.36 1526 1798.74 1529.17 Q1802.12 1532.34 1802.12 1537.76 Q1802.12 1543.34 1798.65 1546.44 Q1795.17 1549.52 1788.85 1549.52 Q1786.68 1549.52 1784.41 1549.15 Q1782.16 1548.78 1779.76 1548.04 L1779.76 1543.34 Q1781.84 1544.47 1784.06 1545.03 Q1786.29 1545.58 1788.76 1545.58 Q1792.77 1545.58 1795.1 1543.48 Q1797.44 1541.37 1797.44 1537.76 Q1797.44 1534.15 1795.1 1532.04 Q1792.77 1529.94 1788.76 1529.94 Q1786.89 1529.94 1785.01 1530.35 Q1783.16 1530.77 1781.22 1531.65 L1781.22 1514.29 Z\" fill=\"#000000\" fill-rule=\"evenodd\" fill-opacity=\"1\" /><path clip-path=\"url(#clip750)\" d=\"M2242.22 1544.91 L2249.86 1544.91 L2249.86 1518.55 L2241.55 1520.21 L2241.55 1515.95 L2249.81 1514.29 L2254.49 1514.29 L2254.49 1544.91 L2262.13 1544.91 L2262.13 1548.85 L2242.22 1548.85 L2242.22 1544.91 Z\" fill=\"#000000\" fill-rule=\"evenodd\" fill-opacity=\"1\" /><path clip-path=\"url(#clip750)\" d=\"M2281.57 1517.37 Q2277.96 1517.37 2276.13 1520.93 Q2274.33 1524.47 2274.33 1531.6 Q2274.33 1538.71 2276.13 1542.27 Q2277.96 1545.82 2281.57 1545.82 Q2285.21 1545.82 2287.01 1542.27 Q2288.84 1538.71 2288.84 1531.6 Q2288.84 1524.47 2287.01 1520.93 Q2285.21 1517.37 2281.57 1517.37 M2281.57 1513.66 Q2287.38 1513.66 2290.44 1518.27 Q2293.52 1522.85 2293.52 1531.6 Q2293.52 1540.33 2290.44 1544.94 Q2287.38 1549.52 2281.57 1549.52 Q2275.76 1549.52 2272.69 1544.94 Q2269.63 1540.33 2269.63 1531.6 Q2269.63 1522.85 2272.69 1518.27 Q2275.76 1513.66 2281.57 1513.66 Z\" fill=\"#000000\" fill-rule=\"evenodd\" fill-opacity=\"1\" /><path clip-path=\"url(#clip750)\" d=\"M2301.74 1542.97 L2306.62 1542.97 L2306.62 1548.85 L2301.74 1548.85 L2301.74 1542.97 Z\" fill=\"#000000\" fill-rule=\"evenodd\" fill-opacity=\"1\" /><path clip-path=\"url(#clip750)\" d=\"M2326.81 1517.37 Q2323.19 1517.37 2321.37 1520.93 Q2319.56 1524.47 2319.56 1531.6 Q2319.56 1538.71 2321.37 1542.27 Q2323.19 1545.82 2326.81 1545.82 Q2330.44 1545.82 2332.25 1542.27 Q2334.07 1538.71 2334.07 1531.6 Q2334.07 1524.47 2332.25 1520.93 Q2330.44 1517.37 2326.81 1517.37 M2326.81 1513.66 Q2332.62 1513.66 2335.67 1518.27 Q2338.75 1522.85 2338.75 1531.6 Q2338.75 1540.33 2335.67 1544.94 Q2332.62 1549.52 2326.81 1549.52 Q2321 1549.52 2317.92 1544.94 Q2314.86 1540.33 2314.86 1531.6 Q2314.86 1522.85 2317.92 1518.27 Q2321 1513.66 2326.81 1513.66 Z\" fill=\"#000000\" fill-rule=\"evenodd\" fill-opacity=\"1\" /><polyline clip-path=\"url(#clip752)\" style=\"stroke:#000000; stroke-linecap:round; stroke-linejoin:round; stroke-width:2; stroke-opacity:0.1; fill:none\" points=\"140.696,1264.68 2352.76,1264.68 \"/>\n",
       "<polyline clip-path=\"url(#clip752)\" style=\"stroke:#000000; stroke-linecap:round; stroke-linejoin:round; stroke-width:2; stroke-opacity:0.1; fill:none\" points=\"140.696,1038.39 2352.76,1038.39 \"/>\n",
       "<polyline clip-path=\"url(#clip752)\" style=\"stroke:#000000; stroke-linecap:round; stroke-linejoin:round; stroke-width:2; stroke-opacity:0.1; fill:none\" points=\"140.696,812.104 2352.76,812.104 \"/>\n",
       "<polyline clip-path=\"url(#clip752)\" style=\"stroke:#000000; stroke-linecap:round; stroke-linejoin:round; stroke-width:2; stroke-opacity:0.1; fill:none\" points=\"140.696,585.814 2352.76,585.814 \"/>\n",
       "<polyline clip-path=\"url(#clip752)\" style=\"stroke:#000000; stroke-linecap:round; stroke-linejoin:round; stroke-width:2; stroke-opacity:0.1; fill:none\" points=\"140.696,359.524 2352.76,359.524 \"/>\n",
       "<polyline clip-path=\"url(#clip752)\" style=\"stroke:#000000; stroke-linecap:round; stroke-linejoin:round; stroke-width:2; stroke-opacity:0.1; fill:none\" points=\"140.696,133.234 2352.76,133.234 \"/>\n",
       "<polyline clip-path=\"url(#clip750)\" style=\"stroke:#000000; stroke-linecap:round; stroke-linejoin:round; stroke-width:4; stroke-opacity:1; fill:none\" points=\"140.696,1486.45 140.696,47.2441 \"/>\n",
       "<polyline clip-path=\"url(#clip750)\" style=\"stroke:#000000; stroke-linecap:round; stroke-linejoin:round; stroke-width:4; stroke-opacity:1; fill:none\" points=\"140.696,1264.68 159.593,1264.68 \"/>\n",
       "<polyline clip-path=\"url(#clip750)\" style=\"stroke:#000000; stroke-linecap:round; stroke-linejoin:round; stroke-width:4; stroke-opacity:1; fill:none\" points=\"140.696,1038.39 159.593,1038.39 \"/>\n",
       "<polyline clip-path=\"url(#clip750)\" style=\"stroke:#000000; stroke-linecap:round; stroke-linejoin:round; stroke-width:4; stroke-opacity:1; fill:none\" points=\"140.696,812.104 159.593,812.104 \"/>\n",
       "<polyline clip-path=\"url(#clip750)\" style=\"stroke:#000000; stroke-linecap:round; stroke-linejoin:round; stroke-width:4; stroke-opacity:1; fill:none\" points=\"140.696,585.814 159.593,585.814 \"/>\n",
       "<polyline clip-path=\"url(#clip750)\" style=\"stroke:#000000; stroke-linecap:round; stroke-linejoin:round; stroke-width:4; stroke-opacity:1; fill:none\" points=\"140.696,359.524 159.593,359.524 \"/>\n",
       "<polyline clip-path=\"url(#clip750)\" style=\"stroke:#000000; stroke-linecap:round; stroke-linejoin:round; stroke-width:4; stroke-opacity:1; fill:none\" points=\"140.696,133.234 159.593,133.234 \"/>\n",
       "<path clip-path=\"url(#clip750)\" d=\"M83.7929 1247.4 L102.149 1247.4 L102.149 1251.34 L88.0753 1251.34 L88.0753 1259.81 Q89.0938 1259.46 90.1123 1259.3 Q91.1308 1259.12 92.1493 1259.12 Q97.9363 1259.12 101.316 1262.29 Q104.696 1265.46 104.696 1270.88 Q104.696 1276.45 101.223 1279.56 Q97.7511 1282.64 91.4317 1282.64 Q89.2558 1282.64 86.9873 1282.26 Q84.7419 1281.89 82.3346 1281.15 L82.3346 1276.45 Q84.4179 1277.59 86.6401 1278.14 Q88.8623 1278.7 91.3391 1278.7 Q95.3437 1278.7 97.6817 1276.59 Q100.02 1274.49 100.02 1270.88 Q100.02 1267.26 97.6817 1265.16 Q95.3437 1263.05 91.3391 1263.05 Q89.4641 1263.05 87.5892 1263.47 Q85.7373 1263.89 83.7929 1264.76 L83.7929 1247.4 Z\" fill=\"#000000\" fill-rule=\"evenodd\" fill-opacity=\"1\" /><path clip-path=\"url(#clip750)\" d=\"M53.3995 1051.74 L61.0384 1051.74 L61.0384 1025.37 L52.7282 1027.04 L52.7282 1022.78 L60.9921 1021.11 L65.668 1021.11 L65.668 1051.74 L73.3068 1051.74 L73.3068 1055.67 L53.3995 1055.67 L53.3995 1051.74 Z\" fill=\"#000000\" fill-rule=\"evenodd\" fill-opacity=\"1\" /><path clip-path=\"url(#clip750)\" d=\"M92.7512 1024.19 Q89.1401 1024.19 87.3114 1027.76 Q85.5058 1031.3 85.5058 1038.43 Q85.5058 1045.54 87.3114 1049.1 Q89.1401 1052.64 92.7512 1052.64 Q96.3854 1052.64 98.1909 1049.1 Q100.02 1045.54 100.02 1038.43 Q100.02 1031.3 98.1909 1027.76 Q96.3854 1024.19 92.7512 1024.19 M92.7512 1020.49 Q98.5613 1020.49 101.617 1025.1 Q104.696 1029.68 104.696 1038.43 Q104.696 1047.16 101.617 1051.76 Q98.5613 1056.35 92.7512 1056.35 Q86.941 1056.35 83.8623 1051.76 Q80.8068 1047.16 80.8068 1038.43 Q80.8068 1029.68 83.8623 1025.1 Q86.941 1020.49 92.7512 1020.49 Z\" fill=\"#000000\" fill-rule=\"evenodd\" fill-opacity=\"1\" /><path clip-path=\"url(#clip750)\" d=\"M54.3949 825.449 L62.0337 825.449 L62.0337 799.083 L53.7236 800.75 L53.7236 796.491 L61.9874 794.824 L66.6633 794.824 L66.6633 825.449 L74.3022 825.449 L74.3022 829.384 L54.3949 829.384 L54.3949 825.449 Z\" fill=\"#000000\" fill-rule=\"evenodd\" fill-opacity=\"1\" /><path clip-path=\"url(#clip750)\" d=\"M83.7929 794.824 L102.149 794.824 L102.149 798.759 L88.0753 798.759 L88.0753 807.231 Q89.0938 806.884 90.1123 806.722 Q91.1308 806.537 92.1493 806.537 Q97.9363 806.537 101.316 809.708 Q104.696 812.879 104.696 818.296 Q104.696 823.875 101.223 826.977 Q97.7511 830.055 91.4317 830.055 Q89.2558 830.055 86.9873 829.685 Q84.7419 829.315 82.3346 828.574 L82.3346 823.875 Q84.4179 825.009 86.6401 825.565 Q88.8623 826.12 91.3391 826.12 Q95.3437 826.12 97.6817 824.014 Q100.02 821.907 100.02 818.296 Q100.02 814.685 97.6817 812.578 Q95.3437 810.472 91.3391 810.472 Q89.4641 810.472 87.5892 810.889 Q85.7373 811.305 83.7929 812.185 L83.7929 794.824 Z\" fill=\"#000000\" fill-rule=\"evenodd\" fill-opacity=\"1\" /><path clip-path=\"url(#clip750)\" d=\"M56.6171 599.159 L72.9365 599.159 L72.9365 603.094 L50.9921 603.094 L50.9921 599.159 Q53.6541 596.404 58.2375 591.775 Q62.8439 587.122 64.0245 585.779 Q66.2698 583.256 67.1494 581.52 Q68.0522 579.761 68.0522 578.071 Q68.0522 575.316 66.1078 573.58 Q64.1865 571.844 61.0847 571.844 Q58.8856 571.844 56.4319 572.608 Q54.0014 573.372 51.2236 574.923 L51.2236 570.201 Q54.0477 569.066 56.5014 568.488 Q58.955 567.909 60.9921 567.909 Q66.3624 567.909 69.5568 570.594 Q72.7513 573.279 72.7513 577.77 Q72.7513 579.9 71.9411 581.821 Q71.1541 583.719 69.0476 586.312 Q68.4689 586.983 65.367 590.201 Q62.2652 593.395 56.6171 599.159 Z\" fill=\"#000000\" fill-rule=\"evenodd\" fill-opacity=\"1\" /><path clip-path=\"url(#clip750)\" d=\"M92.7512 571.613 Q89.1401 571.613 87.3114 575.178 Q85.5058 578.719 85.5058 585.849 Q85.5058 592.955 87.3114 596.52 Q89.1401 600.062 92.7512 600.062 Q96.3854 600.062 98.1909 596.52 Q100.02 592.955 100.02 585.849 Q100.02 578.719 98.1909 575.178 Q96.3854 571.613 92.7512 571.613 M92.7512 567.909 Q98.5613 567.909 101.617 572.516 Q104.696 577.099 104.696 585.849 Q104.696 594.576 101.617 599.182 Q98.5613 603.765 92.7512 603.765 Q86.941 603.765 83.8623 599.182 Q80.8068 594.576 80.8068 585.849 Q80.8068 577.099 83.8623 572.516 Q86.941 567.909 92.7512 567.909 Z\" fill=\"#000000\" fill-rule=\"evenodd\" fill-opacity=\"1\" /><path clip-path=\"url(#clip750)\" d=\"M57.6125 372.869 L73.9318 372.869 L73.9318 376.804 L51.9875 376.804 L51.9875 372.869 Q54.6495 370.114 59.2328 365.485 Q63.8393 360.832 65.0198 359.489 Q67.2652 356.966 68.1448 355.23 Q69.0476 353.471 69.0476 351.781 Q69.0476 349.027 67.1032 347.29 Q65.1819 345.554 62.08 345.554 Q59.881 345.554 57.4273 346.318 Q54.9967 347.082 52.219 348.633 L52.219 343.911 Q55.043 342.777 57.4967 342.198 Q59.9504 341.619 61.9874 341.619 Q67.3578 341.619 70.5522 344.304 Q73.7466 346.99 73.7466 351.48 Q73.7466 353.61 72.9365 355.531 Q72.1494 357.429 70.0429 360.022 Q69.4642 360.693 66.3624 363.911 Q63.2606 367.105 57.6125 372.869 Z\" fill=\"#000000\" fill-rule=\"evenodd\" fill-opacity=\"1\" /><path clip-path=\"url(#clip750)\" d=\"M83.7929 342.244 L102.149 342.244 L102.149 346.179 L88.0753 346.179 L88.0753 354.652 Q89.0938 354.304 90.1123 354.142 Q91.1308 353.957 92.1493 353.957 Q97.9363 353.957 101.316 357.128 Q104.696 360.3 104.696 365.716 Q104.696 371.295 101.223 374.397 Q97.7511 377.475 91.4317 377.475 Q89.2558 377.475 86.9873 377.105 Q84.7419 376.735 82.3346 375.994 L82.3346 371.295 Q84.4179 372.429 86.6401 372.985 Q88.8623 373.54 91.3391 373.54 Q95.3437 373.54 97.6817 371.434 Q100.02 369.327 100.02 365.716 Q100.02 362.105 97.6817 359.999 Q95.3437 357.892 91.3391 357.892 Q89.4641 357.892 87.5892 358.309 Q85.7373 358.726 83.7929 359.605 L83.7929 342.244 Z\" fill=\"#000000\" fill-rule=\"evenodd\" fill-opacity=\"1\" /><path clip-path=\"url(#clip750)\" d=\"M66.7559 131.88 Q70.1124 132.598 71.9874 134.866 Q73.8855 137.135 73.8855 140.468 Q73.8855 145.584 70.367 148.385 Q66.8485 151.186 60.3671 151.186 Q58.1912 151.186 55.8764 150.746 Q53.5847 150.329 51.131 149.473 L51.131 144.959 Q53.0754 146.093 55.3903 146.672 Q57.7051 147.25 60.2282 147.25 Q64.6263 147.25 66.918 145.514 Q69.2328 143.778 69.2328 140.468 Q69.2328 137.412 67.08 135.7 Q64.9504 133.963 61.131 133.963 L57.1032 133.963 L57.1032 130.121 L61.3161 130.121 Q64.7652 130.121 66.5939 128.755 Q68.4226 127.366 68.4226 124.774 Q68.4226 122.112 66.5245 120.7 Q64.6495 119.264 61.131 119.264 Q59.2097 119.264 57.0106 119.681 Q54.8115 120.098 52.1727 120.977 L52.1727 116.811 Q54.8347 116.07 57.1495 115.7 Q59.4875 115.329 61.5476 115.329 Q66.8717 115.329 69.9735 117.76 Q73.0753 120.167 73.0753 124.288 Q73.0753 127.158 71.4318 129.149 Q69.7883 131.116 66.7559 131.88 Z\" fill=\"#000000\" fill-rule=\"evenodd\" fill-opacity=\"1\" /><path clip-path=\"url(#clip750)\" d=\"M92.7512 119.033 Q89.1401 119.033 87.3114 122.598 Q85.5058 126.139 85.5058 133.269 Q85.5058 140.375 87.3114 143.94 Q89.1401 147.482 92.7512 147.482 Q96.3854 147.482 98.1909 143.94 Q100.02 140.375 100.02 133.269 Q100.02 126.139 98.1909 122.598 Q96.3854 119.033 92.7512 119.033 M92.7512 115.329 Q98.5613 115.329 101.617 119.936 Q104.696 124.519 104.696 133.269 Q104.696 141.996 101.617 146.602 Q98.5613 151.186 92.7512 151.186 Q86.941 151.186 83.8623 146.602 Q80.8068 141.996 80.8068 133.269 Q80.8068 124.519 83.8623 119.936 Q86.941 115.329 92.7512 115.329 Z\" fill=\"#000000\" fill-rule=\"evenodd\" fill-opacity=\"1\" /><circle clip-path=\"url(#clip752)\" cx=\"203.301\" cy=\"1414.04\" r=\"14.4\" fill=\"#009af9\" fill-rule=\"evenodd\" fill-opacity=\"1\" stroke=\"#000000\" stroke-opacity=\"1\" stroke-width=\"3.2\"/>\n",
       "<circle clip-path=\"url(#clip752)\" cx=\"411.986\" cy=\"1355.21\" r=\"14.4\" fill=\"#009af9\" fill-rule=\"evenodd\" fill-opacity=\"1\" stroke=\"#000000\" stroke-opacity=\"1\" stroke-width=\"3.2\"/>\n",
       "<circle clip-path=\"url(#clip752)\" cx=\"620.671\" cy=\"1182.02\" r=\"14.4\" fill=\"#009af9\" fill-rule=\"evenodd\" fill-opacity=\"1\" stroke=\"#000000\" stroke-opacity=\"1\" stroke-width=\"3.2\"/>\n",
       "<circle clip-path=\"url(#clip752)\" cx=\"829.356\" cy=\"964.692\" r=\"14.4\" fill=\"#009af9\" fill-rule=\"evenodd\" fill-opacity=\"1\" stroke=\"#000000\" stroke-opacity=\"1\" stroke-width=\"3.2\"/>\n",
       "<circle clip-path=\"url(#clip752)\" cx=\"1038.04\" cy=\"966.154\" r=\"14.4\" fill=\"#009af9\" fill-rule=\"evenodd\" fill-opacity=\"1\" stroke=\"#000000\" stroke-opacity=\"1\" stroke-width=\"3.2\"/>\n",
       "<circle clip-path=\"url(#clip752)\" cx=\"1246.73\" cy=\"859.807\" r=\"14.4\" fill=\"#009af9\" fill-rule=\"evenodd\" fill-opacity=\"1\" stroke=\"#000000\" stroke-opacity=\"1\" stroke-width=\"3.2\"/>\n",
       "<circle clip-path=\"url(#clip752)\" cx=\"1455.41\" cy=\"464.037\" r=\"14.4\" fill=\"#009af9\" fill-rule=\"evenodd\" fill-opacity=\"1\" stroke=\"#000000\" stroke-opacity=\"1\" stroke-width=\"3.2\"/>\n",
       "<circle clip-path=\"url(#clip752)\" cx=\"1664.1\" cy=\"451.732\" r=\"14.4\" fill=\"#009af9\" fill-rule=\"evenodd\" fill-opacity=\"1\" stroke=\"#000000\" stroke-opacity=\"1\" stroke-width=\"3.2\"/>\n",
       "<circle clip-path=\"url(#clip752)\" cx=\"1872.78\" cy=\"426.814\" r=\"14.4\" fill=\"#009af9\" fill-rule=\"evenodd\" fill-opacity=\"1\" stroke=\"#000000\" stroke-opacity=\"1\" stroke-width=\"3.2\"/>\n",
       "<circle clip-path=\"url(#clip752)\" cx=\"2081.47\" cy=\"268.762\" r=\"14.4\" fill=\"#009af9\" fill-rule=\"evenodd\" fill-opacity=\"1\" stroke=\"#000000\" stroke-opacity=\"1\" stroke-width=\"3.2\"/>\n",
       "<circle clip-path=\"url(#clip752)\" cx=\"2290.15\" cy=\"289.672\" r=\"14.4\" fill=\"#009af9\" fill-rule=\"evenodd\" fill-opacity=\"1\" stroke=\"#000000\" stroke-opacity=\"1\" stroke-width=\"3.2\"/>\n",
       "<polyline clip-path=\"url(#clip752)\" style=\"stroke:#e26f46; stroke-linecap:round; stroke-linejoin:round; stroke-width:4; stroke-opacity:1; fill:none\" points=\"203.301,1445.72 411.986,1309.94 620.671,1174.17 829.356,1038.39 1038.04,902.62 1246.73,766.846 1455.41,631.072 1664.1,495.298 1872.78,359.524 2081.47,223.75 2290.15,87.9763 \"/>\n",
       "<path clip-path=\"url(#clip750)\" d=\"M214.431 250.738 L488.067 250.738 L488.067 95.2176 L214.431 95.2176  Z\" fill=\"#ffffff\" fill-rule=\"evenodd\" fill-opacity=\"1\"/>\n",
       "<polyline clip-path=\"url(#clip750)\" style=\"stroke:#000000; stroke-linecap:round; stroke-linejoin:round; stroke-width:4; stroke-opacity:1; fill:none\" points=\"214.431,250.738 488.067,250.738 488.067,95.2176 214.431,95.2176 214.431,250.738 \"/>\n",
       "<circle clip-path=\"url(#clip750)\" cx=\"312.745\" cy=\"147.058\" r=\"23.04\" fill=\"#009af9\" fill-rule=\"evenodd\" fill-opacity=\"1\" stroke=\"#000000\" stroke-opacity=\"1\" stroke-width=\"5.12\"/>\n",
       "<path clip-path=\"url(#clip750)\" d=\"M424.901 166.745 Q423.095 171.375 421.382 172.787 Q419.67 174.199 416.799 174.199 L413.396 174.199 L413.396 170.634 L415.896 170.634 Q417.656 170.634 418.628 169.8 Q419.6 168.967 420.781 165.865 L421.545 163.921 L411.058 138.412 L415.572 138.412 L423.674 158.689 L431.776 138.412 L436.29 138.412 L424.901 166.745 Z\" fill=\"#000000\" fill-rule=\"evenodd\" fill-opacity=\"1\" /><path clip-path=\"url(#clip750)\" d=\"M443.581 160.402 L451.22 160.402 L451.22 134.037 L442.91 135.703 L442.91 131.444 L451.174 129.778 L455.85 129.778 L455.85 160.402 L463.489 160.402 L463.489 164.338 L443.581 164.338 L443.581 160.402 Z\" fill=\"#000000\" fill-rule=\"evenodd\" fill-opacity=\"1\" /><polyline clip-path=\"url(#clip750)\" style=\"stroke:#e26f46; stroke-linecap:round; stroke-linejoin:round; stroke-width:4; stroke-opacity:1; fill:none\" points=\"239.009,198.898 386.48,198.898 \"/>\n",
       "<path clip-path=\"url(#clip750)\" d=\"M424.901 218.585 Q423.095 223.215 421.382 224.627 Q419.67 226.039 416.799 226.039 L413.396 226.039 L413.396 222.474 L415.896 222.474 Q417.656 222.474 418.628 221.64 Q419.6 220.807 420.781 217.705 L421.545 215.761 L411.058 190.252 L415.572 190.252 L423.674 210.529 L431.776 190.252 L436.29 190.252 L424.901 218.585 Z\" fill=\"#000000\" fill-rule=\"evenodd\" fill-opacity=\"1\" /><path clip-path=\"url(#clip750)\" d=\"M446.799 212.242 L463.118 212.242 L463.118 216.178 L441.174 216.178 L441.174 212.242 Q443.836 209.488 448.419 204.858 Q453.026 200.205 454.206 198.863 Q456.452 196.34 457.331 194.604 Q458.234 192.844 458.234 191.155 Q458.234 188.4 456.29 186.664 Q454.368 184.928 451.267 184.928 Q449.068 184.928 446.614 185.692 Q444.183 186.455 441.406 188.006 L441.406 183.284 Q444.23 182.15 446.683 181.571 Q449.137 180.993 451.174 180.993 Q456.544 180.993 459.739 183.678 Q462.933 186.363 462.933 190.854 Q462.933 192.983 462.123 194.905 Q461.336 196.803 459.23 199.395 Q458.651 200.067 455.549 203.284 Q452.447 206.479 446.799 212.242 Z\" fill=\"#000000\" fill-rule=\"evenodd\" fill-opacity=\"1\" /></svg>\n"
      ]
     },
     "execution_count": 5,
     "metadata": {},
     "output_type": "execute_result"
    }
   ],
   "source": [
    "y = 3.0 .* x .+ 1.0 .+ rand(d,length(x))\n",
    "y_true = 3.0 .* x .+ 1.0\n",
    "scatter(x,y)\n",
    "plot!(x,y_true)"
   ]
  },
  {
   "cell_type": "code",
   "execution_count": null,
   "id": "71513554",
   "metadata": {},
   "outputs": [],
   "source": []
  }
 ],
 "metadata": {
  "kernelspec": {
   "display_name": "Julia 1.8.5",
   "language": "julia",
   "name": "julia-1.8"
  },
  "language_info": {
   "file_extension": ".jl",
   "mimetype": "application/julia",
   "name": "julia",
   "version": "1.8.5"
  }
 },
 "nbformat": 4,
 "nbformat_minor": 5
}
