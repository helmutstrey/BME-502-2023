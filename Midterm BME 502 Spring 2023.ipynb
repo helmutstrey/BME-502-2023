{
 "cells": [
  {
   "cell_type": "markdown",
   "id": "c286dbf6",
   "metadata": {},
   "source": [
    "## MIDTERM Spring 2023"
   ]
  },
  {
   "cell_type": "markdown",
   "id": "25a8c1b1",
   "metadata": {},
   "source": [
    "In this midterm we will explore the exponential distribution.  It naturally occurs if the probability of something happening is constant.  For example, the probability that a radioactive nucleus decays is constant.  For this reason the amount of nuclei that did not decay decreased exponentially.  In biochemistry the exponential distribution describes the distributions of times for a reaction.  Lets say you have a process that has a fixed reaction constant.  Than the distribution of waiting times between reactions is given by an exponential distribution.\n",
    "$$p(t) = \\lambda exp(-\\lambda t)$$,\n",
    "where $\\lambda$ is the rate of the reaction."
   ]
  },
  {
   "cell_type": "markdown",
   "id": "aeb7a03f",
   "metadata": {},
   "source": [
    "## Problem 1 (30 Points):\n",
    "Create a function that returns n samples of an exponential distribution with rate $\\lambda$\n",
    "using your own code to produce the sample (do not use Distributions.jl).\n",
    "\n",
    "expdist($\\lambda$,n) returns the sample as an array of n floats"
   ]
  },
  {
   "cell_type": "markdown",
   "id": "453b9d28",
   "metadata": {},
   "source": [
    "## Problem 2 (40 Points):\n",
    "from this point on you should probably use Distributions.jl rather than your own implementation (although you can)\n",
    "\n",
    "A very common situation in biochemical reaction is when there is a cascade of reactions $A\\rightarrow B\\rightarrow C\\rightarrow \\cdots$\n",
    "\n",
    "If every reaction has a rate $\\lambda_{A\\rightarrow B}, \\lambda_{B\\rightarrow C},\\cdots$ then one would like the reaction time distributions of $A\\rightarrow B$ and $A\\rightarrow C$\n",
    "\n",
    "a) (15p) Perform a simulation in Julia that simulates a system $A\\rightarrow B\\rightarrow C\\rightarrow$ with $\\lambda_{A\\rightarrow B}=1.0, \\lambda_{B\\rightarrow C}=0.5,\\cdots$ and plot the distribution of $A\\rightarrow B$ and $A\\rightarrow C$\n",
    "\n",
    "b) (15p) Calculate the distribution from $A\\rightarrow C$ analytically, by performing the convolution $p_{A\\rightarrow C}(t) = \\int_{0}^{t} p_{A\\rightarrow B}(\\tau)p_{B\\rightarrow C}(t-\\tau)d\\tau$.  Please provide an analytical expression.\n",
    "\n",
    "c) (10p) Compare a) and b) and show that these approaches result in the same distribution. Make a nice graph/histogram."
   ]
  },
  {
   "cell_type": "markdown",
   "id": "da03a6e9",
   "metadata": {},
   "source": [
    "## Problem 3 (30 Points):\n",
    "a) (20p) Create Probabilistic model for Multilevel Process in Turing.jl\n",
    "\n",
    "Take the system from 2a, and create a Turing.jl model to estimate the parameters $\\lambda_{A\\rightarrow B}, \\lambda_{B\\rightarrow C}$ from the simulated data.\n",
    "\n",
    "b) (10p) Estimate parameters from simulated data\n",
    "\n",
    "Sample from the Turing model and show that you can recover the parameters from the simulated data.  If unsuccessful, please give an explanation why that could be and how to remedy any problems."
   ]
  },
  {
   "cell_type": "code",
   "execution_count": null,
   "id": "6fa0235d",
   "metadata": {},
   "outputs": [],
   "source": []
  }
 ],
 "metadata": {
  "kernelspec": {
   "display_name": "Julia 1.8.5",
   "language": "julia",
   "name": "julia-1.8"
  },
  "language_info": {
   "file_extension": ".jl",
   "mimetype": "application/julia",
   "name": "julia",
   "version": "1.8.5"
  }
 },
 "nbformat": 4,
 "nbformat_minor": 5
}
